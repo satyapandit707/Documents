{
  "nbformat": 4,
  "nbformat_minor": 0,
  "metadata": {
    "colab": {
      "provenance": [],
      "authorship_tag": "ABX9TyMIiUHE453vUFMIBJFpSi5U",
      "include_colab_link": true
    },
    "kernelspec": {
      "name": "python3",
      "display_name": "Python 3"
    },
    "language_info": {
      "name": "python"
    }
  },
  "cells": [
    {
      "cell_type": "markdown",
      "metadata": {
        "id": "view-in-github",
        "colab_type": "text"
      },
      "source": [
        "<a href=\"https://colab.research.google.com/github/satyapandit707/Documents/blob/main/TATA_POWER.ipynb\" target=\"_parent\"><img src=\"https://colab.research.google.com/assets/colab-badge.svg\" alt=\"Open In Colab\"/></a>"
      ]
    },
    {
      "cell_type": "code",
      "execution_count": null,
      "metadata": {
        "colab": {
          "base_uri": "https://localhost:8080/"
        },
        "id": "SMy6HeTIyWKA",
        "outputId": "35c2872c-90fc-4cea-df38-c8286546bb28"
      },
      "outputs": [
        {
          "output_type": "stream",
          "name": "stdout",
          "text": [
            "Requirement already satisfied: pandas in /usr/local/lib/python3.10/dist-packages (2.0.3)\n",
            "Requirement already satisfied: python-dateutil>=2.8.2 in /usr/local/lib/python3.10/dist-packages (from pandas) (2.8.2)\n",
            "Requirement already satisfied: pytz>=2020.1 in /usr/local/lib/python3.10/dist-packages (from pandas) (2023.4)\n",
            "Requirement already satisfied: tzdata>=2022.1 in /usr/local/lib/python3.10/dist-packages (from pandas) (2024.1)\n",
            "Requirement already satisfied: numpy>=1.21.0 in /usr/local/lib/python3.10/dist-packages (from pandas) (1.25.2)\n",
            "Requirement already satisfied: six>=1.5 in /usr/local/lib/python3.10/dist-packages (from python-dateutil>=2.8.2->pandas) (1.16.0)\n"
          ]
        }
      ],
      "source": [
        "pip install pandas"
      ]
    },
    {
      "cell_type": "code",
      "source": [
        "import pandas as pd\n",
        "\n",
        "\n",
        "file_path = '/content/ppgcl2.csv'\n",
        "data = pd.read_csv(file_path)\n",
        "\n",
        "  # Display the first few rows of the data to understand its structure\n",
        "print(\"Data preview:\")\n",
        "print(data.head())\n",
        "\n",
        "# Define threshold temperatures\n",
        "thresholds = {\n",
        "    'FRH Coil No-30  Tube No-9': 570,\n",
        "    'FSH Coil No-28  Tube No-7': 590,\n",
        "    'LTRH Coil No-24  Tube No-1': 5,\n",
        "    'Platen SH Coil No-1  Tube No-2': 520\n",
        "}\n",
        "\n",
        "# Function to check for exceedances\n",
        "def check_exceedances(data, thresholds):\n",
        "    exceedances = {}\n",
        "    for component, threshold in thresholds.items():\n",
        "        if component in data.columns:\n",
        "            exceedances[component] = data[data[component] > threshold]\n",
        "        else:\n",
        "            print(f\"Warning: {component} not found in data columns.\")\n",
        "    return exceedances\n",
        "\n",
        "# Check for exceedances\n",
        "exceedances = check_exceedances(data, thresholds)\n",
        "\n",
        " # Display exceedances\n",
        "for component, exceedance_data in exceedances.items():\n",
        "    print(f\"Exceedances for {component}:\")\n",
        "    if exceedance_data.empty:\n",
        "        print(\"No exceedances.\")\n",
        "    else:\n",
        "        print(exceedance_data)"
      ],
      "metadata": {
        "colab": {
          "base_uri": "https://localhost:8080/"
        },
        "id": "EQYTAvnuymB4",
        "outputId": "47016fb1-7098-45db-eccc-3fcb24d6a2a2"
      },
      "execution_count": null,
      "outputs": [
        {
          "output_type": "stream",
          "name": "stdout",
          "text": [
            "Data preview:\n",
            "        Date & Time  Platen SH Coil No-1  Tube No-2  \\\n",
            "0  01-06-2024 00:00                      462.452852   \n",
            "1  01-06-2024 00:15                      460.794490   \n",
            "2  01-06-2024 00:30                      460.378563   \n",
            "3  01-06-2024 00:45                      462.594690   \n",
            "4  01-06-2024 01:00                      460.139532   \n",
            "\n",
            "   Platen SHCoil No-2  Tube No-2  Platen SHCoil No-3  Tube No-2  \\\n",
            "0                     468.992879                     470.218621   \n",
            "1                     467.253347                     468.661674   \n",
            "2                     466.997411                     468.218736   \n",
            "3                     469.158994                     470.517978   \n",
            "4                     466.593359                     467.872350   \n",
            "\n",
            "   Platen SHCoil No-4  Tube No-2  Platen SHCoil No-5  Tube No-2  \\\n",
            "0                     474.000835                     475.259193   \n",
            "1                     472.446834                     473.386965   \n",
            "2                     472.478455                     473.038905   \n",
            "3                     474.735787                     475.264989   \n",
            "4                     472.157195                     472.708199   \n",
            "\n",
            "   Platen SHCoil No-6  Tube No-2  Platen SHCoil No-7  Tube No-2  \\\n",
            "0                     477.154356                     476.057247   \n",
            "1                     476.121986                     474.989832   \n",
            "2                     475.621631                     474.377442   \n",
            "3                     477.538409                     476.123846   \n",
            "4                     474.697256                     473.618614   \n",
            "\n",
            "   Platen SHCoil No-8  Tube No-2  Platen SHCoil No-9  Tube No-1  ...  \\\n",
            "0                     476.240173                     469.860051  ...   \n",
            "1                     474.853026                     468.716420  ...   \n",
            "2                     474.381815                     468.542586  ...   \n",
            "3                     476.560953                     470.634932  ...   \n",
            "4                     473.978159                     467.729321  ...   \n",
            "\n",
            "   FRH   Coil No-39  Tube No-9  FRH   Coil No-40  Tube No-9  \\\n",
            "0                   574.636891                   577.044872   \n",
            "1                   574.238830                   576.299425   \n",
            "2                   573.984094                   576.088495   \n",
            "3                   573.638473                   576.142278   \n",
            "4                   572.863332                   575.386657   \n",
            "\n",
            "   FRH   Coil No-41  Tube No-9  FRH   Coil No-42  Tube No-9  \\\n",
            "0                   573.894062                   573.823606   \n",
            "1                   573.089959                   572.786967   \n",
            "2                   572.820574                   571.707218   \n",
            "3                   572.770229                   571.790164   \n",
            "4                   572.120875                   570.966711   \n",
            "\n",
            "   FRH   Coil No-43  Tube No-9  FRH   Coil No-44  Tube No-9  \\\n",
            "0                   574.674917                   567.979835   \n",
            "1                   573.725068                   567.108309   \n",
            "2                   572.928956                   566.259416   \n",
            "3                   573.097327                   566.635218   \n",
            "4                   572.242181                   565.720956   \n",
            "\n",
            "   FRH   Coil No-45  Tube No-9  FRH   Coil No-46  Tube No-9  \\\n",
            "0                   565.669180                   556.260520   \n",
            "1                   564.481602                   555.172875   \n",
            "2                   563.322147                   554.065113   \n",
            "3                   563.624982                   554.203882   \n",
            "4                   562.772688                   553.609442   \n",
            "\n",
            "   FRH   Coil No-47  Tube No-9  FRH   Coil No-48  Tube No-9  \n",
            "0                   558.547101                   551.867751  \n",
            "1                   557.206684                   550.767721  \n",
            "2                   555.862902                   549.912999  \n",
            "3                   555.914425                   549.744861  \n",
            "4                   555.403520                   549.283112  \n",
            "\n",
            "[5 rows x 216 columns]\n",
            "Warning: FRH Coil No-30  Tube No-9 not found in data columns.\n",
            "Warning: FSH Coil No-28  Tube No-7 not found in data columns.\n",
            "Warning: LTRH Coil No-24  Tube No-1 not found in data columns.\n",
            "Exceedances for Platen SH Coil No-1  Tube No-2:\n",
            "No exceedances.\n"
          ]
        }
      ]
    }
  ]
}